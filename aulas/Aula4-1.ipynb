{
  "nbformat": 4,
  "nbformat_minor": 0,
  "metadata": {
    "colab": {
      "name": "Copy of Aula4-1.ipynb",
      "version": "0.3.2",
      "provenance": []
    },
    "kernelspec": {
      "display_name": "Python 3",
      "language": "python",
      "name": "python3"
    }
  },
  "cells": [
    {
      "metadata": {
        "slideshow": {
          "slide_type": "slide"
        },
        "id": "f6E02CJ-0WeV",
        "colab_type": "text"
      },
      "cell_type": "markdown",
      "source": [
        "# Aula 4.1: Estimação básica de propagação de erros experimentais\n",
        "\n",
        "## Objetivos\n",
        "\n",
        "Vamos ver os básicos de propagação de erros\n",
        "\n",
        "- Erros em medições: tipos, descrição\n",
        "- Propagação: distribuções de probabilidade e séries de Taylor\n",
        "- Regras práticas e exemplos"
      ]
    },
    {
      "metadata": {
        "slideshow": {
          "slide_type": "slide"
        },
        "id": "xH_cAkRy0WeW",
        "colab_type": "text"
      },
      "cell_type": "markdown",
      "source": [
        "## Incertezas em mediçoes"
      ]
    },
    {
      "metadata": {
        "id": "XXOrXfd732Iq",
        "colab_type": "text"
      },
      "cell_type": "markdown",
      "source": [
        "Toda medição vem com um erro. (O conceito de erro é intrínseco ao de mediçao!)\n",
        "\n",
        "$$ \\text{valor medido} = \\text{valor medio} \\pm \\text{intervalo de confiança}$$\n",
        "$$ q = q_0 \\pm \\Delta q, \\ \\ \\text{intervalo } [-\\Delta q, \\Delta q], \\ \\ \\Delta q >0$$\n",
        "A ideia é tentar ver como o erro (ou incerteza) se propaga das quantidades medidas as quantidades derivadas delas em algum modelo.\n"
      ]
    },
    {
      "metadata": {
        "id": "6Dsk_fpg8WKl",
        "colab_type": "text"
      },
      "cell_type": "markdown",
      "source": [
        "Defs: \n",
        "- erro ou incerteza *relativa*\n",
        "$$ e_q := \\frac{\\Delta q}{q} $$\n",
        "- preciçao (com respeito a um valor esperado ou tabulado $q_e$)\n",
        "$$ pr_q := \\frac{|q-q_e|}{q_e} $$"
      ]
    },
    {
      "metadata": {
        "id": "TbaoUMP_6fJY",
        "colab_type": "text"
      },
      "cell_type": "markdown",
      "source": [
        "Descrição estatística: Se fizermos N medições e plotamos num 'histograma', esperamos obter uma distribuiçao centrada no valor medio e com uma amplitude caracterizada pelo intervalo de confiança\n"
      ]
    },
    {
      "metadata": {
        "id": "2L_VBXWC0u5-",
        "colab_type": "text"
      },
      "cell_type": "markdown",
      "source": [
        "Clasificação simples:\n",
        "- circunstanciais/aleatorios\n",
        "- sistemáticos\n",
        "\n"
      ]
    }
  ]
}