{
  "nbformat": 4,
  "nbformat_minor": 0,
  "metadata": {
    "colab": {
      "name": "Aula4-1.ipynb",
      "version": "0.3.2",
      "provenance": []
    },
    "kernelspec": {
      "display_name": "Python 3",
      "language": "python",
      "name": "python3"
    }
  },
  "cells": [
    {
      "metadata": {
        "slideshow": {
          "slide_type": "slide"
        },
        "id": "f6E02CJ-0WeV",
        "colab_type": "text"
      },
      "cell_type": "markdown",
      "source": [
        "# Aula 4.1: Estimação básica de propagação de erros experimentais\n",
        "\n",
        "## Objetivos\n",
        "\n",
        "Vamos ver os básicos de propagação de erros\n",
        "\n",
        "- Tipos de erros em medições\n",
        "- Propagação: distribuções de probabilidade e séries de Taylor\n",
        "- Regras práticas e exemplos"
      ]
    },
    {
      "metadata": {
        "slideshow": {
          "slide_type": "slide"
        },
        "id": "xH_cAkRy0WeW",
        "colab_type": "text"
      },
      "cell_type": "markdown",
      "source": [
        "## Tipos de erros"
      ]
    },
    {
      "metadata": {
        "id": "2L_VBXWC0u5-",
        "colab_type": "text"
      },
      "cell_type": "markdown",
      "source": [
        "- de mediçao circunstanciais\n",
        "- sistemáticos\n"
      ]
    },
    {
      "metadata": {
        "id": "IzpUuSG62bUF",
        "colab_type": "code",
        "colab": {}
      },
      "cell_type": "code",
      "source": [
        ""
      ],
      "execution_count": 0,
      "outputs": []
    }
  ]
}