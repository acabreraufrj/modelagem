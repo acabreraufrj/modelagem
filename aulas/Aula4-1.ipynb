{
 "cells": [
  {
   "cell_type": "markdown",
   "metadata": {
    "colab_type": "text",
    "id": "f6E02CJ-0WeV",
    "slideshow": {
     "slide_type": "slide"
    }
   },
   "source": [
    "# Aula 4.1: Estimação básica de propagação de erros experimentais\n",
    "\n",
    "## Objetivos\n",
    "\n",
    "Vamos ver os básicos de propagação de erros\n",
    "\n",
    "- Erros em medições: descrição, tipos\n",
    "- Propagação: distribuções de probabilidade e aproximacao linear\n",
    "- Regras práticas e exemplos.\n",
    "\n",
    "Algumas Refs:\n",
    "\n",
    "http://www.webassign.net/question_assets/unccolphysmechl1/measurements/manual.pdf\n",
    "\n",
    "http://www.dartmouth.edu/~pchem/75/pdfs/ErrAnalysis.pdf"
   ]
  },
  {
   "cell_type": "markdown",
   "metadata": {
    "colab_type": "text",
    "id": "xH_cAkRy0WeW",
    "slideshow": {
     "slide_type": "slide"
    }
   },
   "source": [
    "## Incertezas em mediçoes"
   ]
  },
  {
   "cell_type": "markdown",
   "metadata": {
    "colab_type": "text",
    "id": "XXOrXfd732Iq",
    "slideshow": {
     "slide_type": "slide"
    }
   },
   "source": [
    "Toda medição vem com um erro. (O conceito de erro é intrínseco ao de mediçao!)\n",
    "\n",
    "$$ \\text{valor medido} = \\text{valor medio} \\pm \\text{intervalo de confiança/incerteza}$$\n",
    "$$ q = q_0 \\pm \\Delta q, \\ \\ \\text{intervalo } [-\\Delta q, \\Delta q], \\ \\ \\Delta q >0$$\n",
    "A ideia é tentar ver como o erro (ou incerteza) se propaga das quantidades medidas as quantidades derivadas delas em algum modelo.\n"
   ]
  },
  {
   "cell_type": "markdown",
   "metadata": {
    "colab_type": "text",
    "id": "6Dsk_fpg8WKl",
    "slideshow": {
     "slide_type": "slide"
    }
   },
   "source": [
    "Defs: \n",
    "- incerteza *relativa* (precision)\n",
    "$$ e_q := \\frac{\\Delta q}{|q|} $$\n",
    "- fidelidade (accuracy) (com respeito a um valor esperado ou tabulado $q_e$)\n",
    "$$ pr_q := \\frac{|q-q_e|}{|q_e|} $$"
   ]
  },
  {
   "cell_type": "markdown",
   "metadata": {
    "colab_type": "text",
    "id": "2L_VBXWC0u5-",
    "slideshow": {
     "slide_type": "slide"
    }
   },
   "source": [
    "Clasificação simples:\n",
    "- circunstanciais/aleatorios: flutuaçoes estatísticas, circunstanciais aleatorios, resoluçao do aparelho de mediçao, ...\n",
    "- sistemáticos: incompletos, circunstanciais consistentes, calibraçao, 'zero offset',...\n",
    "\n"
   ]
  },
  {
   "cell_type": "markdown",
   "metadata": {
    "colab_type": "text",
    "id": "7URDonurA79_",
    "slideshow": {
     "slide_type": "slide"
    }
   },
   "source": [
    "**Descrição estatística:** \n",
    "Supomos que a quantidade $q$ vem de uma certa distribuicao de probabilidade de valores (esta é implicita). Nos interessa o valor esperado desconhecido $q_e$ (e, eventualmente, sua desviacao $s_e$).\n",
    "\n",
    "Se fizermos N medições $q_1,..,q_N$ e plotamos num 'histograma', esperamos obter uma distribuiçao centrada perto de $q_e$ desta distribuicao e com uma certa dispersao (similar a $s_e$).\n"
   ]
  },
  {
   "cell_type": "markdown",
   "metadata": {
    "colab_type": "text",
    "id": "7URDonurA79_",
    "slideshow": {
     "slide_type": "slide"
    }
   },
   "source": [
    "[** Distribuicao normal **](https://en.wikipedia.org/wiki/Normal_distribution) (1 variavel):  \n",
    "\n",
    "$$prob(q) = \\frac{1}{2\\pi s_e^2} e^{-\\frac{(q-q_e)^2}{2s_e^2}}$$\n",
    "\n"
   ]
  },
  {
   "cell_type": "markdown",
   "metadata": {
    "colab_type": "text",
    "id": "AqMzY-icIRrA",
    "slideshow": {
     "slide_type": "slide"
    }
   },
   "source": [
    "![Histograma](https://raw.githubusercontent.com/acabreraufrj/modelagem/master/figuras/histograma.png)\n",
    "\n"
   ]
  },
  {
   "cell_type": "code",
   "execution_count": 4,
   "metadata": {
    "slideshow": {
     "slide_type": "slide"
    }
   },
   "outputs": [
    {
     "data": {
      "image/png": "[encoded data removed]",
      "text/plain": [
       "<Figure size 432x288 with 1 Axes>"
      ]
     },
     "metadata": {
      "needs_background": "light"
     },
     "output_type": "display_data"
    }
   ],
   "source": [
    "# veja https://matplotlib.org/api/_as_gen/matplotlib.pyplot.hist.html\n",
    "\n",
    "import matplotlib.pyplot as plt\n",
    "import numpy as np\n",
    "import scipy.stats as stats\n",
    "import math\n",
    "\n",
    "n=1000\n",
    "\n",
    "mu = 0\n",
    "variance = 1\n",
    "sigma = math.sqrt(variance)\n",
    "x = np.linspace(mu - 3*sigma, mu + 3*sigma, n)\n",
    "y = stats.norm.pdf(x, mu, sigma)\n",
    "mostra = np.random.normal(mu, sigma, n)\n",
    "\n",
    "plt.figure()\n",
    "plt.plot(x, y)\n",
    "\n",
    "n, bins, patches = plt.hist(mostra, density=True, color='#0504aa')\n",
    "\n",
    "plt.show()\n"
   ]
  },
  {
   "cell_type": "markdown",
   "metadata": {
    "colab_type": "text",
    "id": "7URDonurA79_",
    "slideshow": {
     "slide_type": "slide"
    }
   },
   "source": [
    "$$ \\text{valor medio da mostra} \\ q_0 = (q_1+..+q_N)/N$$\n"
   ]
  },
  {
   "cell_type": "markdown",
   "metadata": {
    "colab_type": "text",
    "id": "7URDonurA79_",
    "slideshow": {
     "slide_type": "slide"
    }
   },
   "source": [
    "$$ \\text{desviacao standard da mostra} \\ s_q = \\sqrt{\\sum_i (q_{i+1}-q_i)^2/(N-1)}$$\n",
    "\n",
    "$$ \\text{desviacao st. da media} \\ \\Delta q  = s_q/ \\sqrt{N} \\ \\text{ \"Erro standard\"}$$\n",
    "\n",
    "-  **Obs:** a mediçao $N+1$ vai cair em $q_0 \\pm s_q$ com $\\sim 68\\%$ confiança. A media $q_e$ (desconhecida) da distribuicao completa está em $q_0 \\pm \\Delta q$.\n",
    "\n",
    "(mais sobre [Erro standard](https://en.wikipedia.org/wiki/Standard_error) )"
   ]
  },
  {
   "cell_type": "markdown",
   "metadata": {
    "colab_type": "text",
    "id": "qCtx1zaRJGND",
    "slideshow": {
     "slide_type": "slide"
    }
   },
   "source": [
    "## Observacoes:\n",
    "\n",
    "- **outliers**: se estamos seguros de que nao tem significado relevante, podemos jogar fora.\n",
    "\n",
    "- as veces se podem modelar erros sistematicos nas medicoes usando distribuicoes nao normais (eg: asimetria na probabilidade $q>q_e$, etc. )"
   ]
  },
  {
   "cell_type": "markdown",
   "metadata": {
    "colab_type": "text",
    "id": "UnCZQK4RRpnT",
    "slideshow": {
     "slide_type": "slide"
    }
   },
   "source": [
    "# Propagaçao:\n",
    "a quantidades derivadas $f(q)$ (ou $f(q, r,...)$ varias medicoes)\n",
    "\n",
    "** Idea **: usar a aproximacao linear $ f(q) \\simeq f(q_0) + \\frac{df}{dq}(q_0) (q-q_0)$ (supondo $f$ suave)\n",
    "\n",
    "Com isto se estima: \n",
    "- valor esperado para $f$: $f_0 = f(q_0)$\n",
    "- intervalo de confianca: $\\Delta f = |\\frac{df}{dq}(q_0)| \\Delta q$\n",
    "\n"
   ]
  },
  {
   "cell_type": "markdown",
   "metadata": {
    "colab_type": "text",
    "id": "UnCZQK4RRpnT",
    "slideshow": {
     "slide_type": "slide"
    }
   },
   "source": [
    "\n",
    "## Exemplos:\n",
    "- $f(q) = q^2 \\Rightarrow \\Delta f = 2|q_0| \\Delta q$   \n",
    "\n",
    "(Obs: $e_f := \\Delta f/| f| = 2 e_q$)\n",
    "- $f(q)=\\sqrt{q} \\Rightarrow \\Delta f = \\frac{1}{2 \\sqrt{q_0}} \\Delta q$\n",
    "\n",
    "(Obs: $e_f = \\frac{1}{2} e_q$ )\n",
    "- $f(q) = cos(q)$ (q rads) $\\Rightarrow \\Delta f = |sen(q_0)| \\Delta q$\n",
    "\n",
    "(Obs: $e_f = |tan(q_0)| e_q $)\n"
   ]
  },
  {
   "cell_type": "markdown",
   "metadata": {
    "colab_type": "text",
    "id": "Osbd1l2BWC3i",
    "slideshow": {
     "slide_type": "slide"
    }
   },
   "source": [
    "## varias variaveis (eg: 2 por simplicidade)\n",
    "\n",
    "aprox. linear $f(q,r) \\simeq f(q_0,r_0) + \\frac{\\partial f}{\\partial q}(q_0,r_0) (q-q_0) + \\frac{\\partial f}{\\partial r}(q_0,r_0) (r-r_0)$\n",
    "\n",
    "Em geral se assume que as medicoes de $q$ e $r$ nao estao co-relacionadas, e isto se traduz na estimativa para a propagacao:\n",
    "$$ \\Delta f = \\sqrt{[\\frac{\\partial f}{\\partial q}(q_0,r_0) \\Delta q]^2 + [\\frac{\\partial f}{\\partial r}(q_0,r_0) \\Delta r]^2 ) }$$\n",
    "\n"
   ]
  },
  {
   "cell_type": "markdown",
   "metadata": {
    "colab_type": "text",
    "id": "B3UKDGFucXQ1",
    "slideshow": {
     "slide_type": "slide"
    }
   },
   "source": [
    "### Exemplos:\n",
    "\n",
    "- $f(q,r)= a q+ b r \\Rightarrow \\Delta f = \\sqrt{a^2 (\\Delta q) ^2+b^2 (\\Delta r)^2}$\n",
    "\n",
    "Obs: **Regra pratica da soma dos erros absolutos** \n",
    "\n",
    "como $x^2+y^2 \\leq (|x| + |y|)^2$, \n",
    "$$\\Delta f \\leq  |a| \\Delta q + |b| \\Delta r$$\n",
    "\n"
   ]
  },
  {
   "cell_type": "markdown",
   "metadata": {
    "colab_type": "text",
    "id": "B3UKDGFucXQ1",
    "slideshow": {
     "slide_type": "slide"
    }
   },
   "source": [
    "\n",
    "\n",
    "- (se aplica ao pendulo) $f(q,r) = a q^n r^m \\Rightarrow \\Delta f = \\sqrt{(a n q_0^{n-1} r_0^m \\Delta q)^2+(a m q_0^n r_0^{m-1} \\Delta r)^2}$\n",
    "\n",
    "Obs: ** Regra pratica da soma dos erros relativos **\n",
    "\n",
    "$$ e_f = \\Delta f/|f| = \\sqrt{n^2 ( e_q)^2 + m^2 (e_r)^2} \\leq |n| e_q + |m|e_r $$\n"
   ]
  },
  {
   "cell_type": "markdown",
   "metadata": {
    "slideshow": {
     "slide_type": "slide"
    }
   },
   "source": [
    "### As regras praticas sao muito utils no lab e para fazer estimativas rápidas de ordens de grandeza, determinar efeitos relevantes/irrelevantes, etc. !\n",
    "\n",
    "** Uso **: Nos projetos para entregar, se envolver medicoes experimentais ou 'computacionais', esperamos que seja incluido um análise elementar da propagacao dos erros e a comparacao com valores tabulados/referencia (eg: aceleracao da gravedade $g$ tabulada) dentro dos intervalos de confianca, etc."
   ]
  },
  {
   "cell_type": "code",
   "execution_count": 5,
   "metadata": {
    "slideshow": {
     "slide_type": "slide"
    }
   },
   "outputs": [
    {
     "data": {
      "image/png": "[encoded data removed]",
      "text/plain": [
       "<Figure size 432x288 with 1 Axes>"
      ]
     },
     "metadata": {
      "needs_background": "light"
     },
     "output_type": "display_data"
    }
   ],
   "source": [
    "# veja https://matplotlib.org/1.2.1/examples/pylab_examples/errorbar_demo.html\n",
    "\n",
    "import numpy as np\n",
    "import matplotlib.pyplot as plt\n",
    "\n",
    "# dados falsos\n",
    "x = [1,2,3,4,5]\n",
    "y = [1,3,4,5,7]\n",
    "\n",
    "# example variable error bar values\n",
    "xerr = [0.2, 0.2,0.7,0.2,0.2]\n",
    "yerr = [0.1, 0.1,0.1,1,0.1]\n",
    "\n",
    "\n",
    "# First illustrate basic pyplot interface, using defaults where possible.\n",
    "plt.figure()\n",
    "plt.errorbar(x, y, xerr=xerr, yerr=yerr)\n",
    "plt.title(\"barras de erro\")\n",
    "plt.show()"
   ]
  },
  {
   "cell_type": "markdown",
   "metadata": {
    "slideshow": {
     "slide_type": "slide"
    }
   },
   "source": [
    "## Exercicios:\n",
    "\n",
    "Para cada comprimento $l$, pegar os archivos do pendulo (luminiscencia e proximidade), extraer de cada um deles uma coleccao de intervalos $(t_1, ... , t_n)$ entre os minimos/pontos de proximidade (lembrar que $t=T/2$, com $T$ o período do pendulo). Pode-se desprezar outliers.\n",
    "\n",
    "Para cada comprimento:\n",
    "- plotar esta mostra em um histograma\n",
    "- achar a media $\\bar t$ e a desviacao standard $s_t$\n",
    "- achar o erro standard $\\Delta t$ nesta quantidade \n",
    "- assumindo que na medicao do comprimento $l$ teve-se um erro $e_l \\simeq 1\\%$, estimar o erro na quantidade derivada $$ g \\equiv g(t,l) = 4 \\pi^2 l/(2t)^2 $$\n",
    "- verificar se o valor tabulado $g_e = 9.8 m/s^2$ cae dentro da margem de erro para cada $l$\n",
    "\n",
    "Usando todos os comprimentos:\n",
    "- fazer uma regressao (quadratica) dos valores $t \\ vs \\ l$ do tipo $l = a (2t)^2$, estimar o erro inducido nesta quantidade $a\\equiv a(t,l)$\n",
    "- deduzir $g$ usando $a$ e comparar a estimacao do erro com a que vem dos $l$'s individuais, concluir qual metodo é mais preciso."
   ]
  }
 ],
 "metadata": {
  "celltoolbar": "Slideshow",
  "colab": {
   "collapsed_sections": [],
   "name": "Aula4-1.ipynb",
   "provenance": [],
   "version": "0.3.2"
  },
  "kernelspec": {
   "display_name": "Python 3",
   "language": "python",
   "name": "python3"
  },
  "language_info": {
   "codemirror_mode": {
    "name": "ipython",
    "version": 3
   },
   "file_extension": ".py",
   "mimetype": "text/x-python",
   "name": "python",
   "nbconvert_exporter": "python",
   "pygments_lexer": "ipython3",
   "version": "3.6.7"
  }
 },
 "nbformat": 4,
 "nbformat_minor": 1
}
