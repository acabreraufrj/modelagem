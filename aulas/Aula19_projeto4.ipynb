{
 "cells": [
  {
   "cell_type": "markdown",
   "metadata": {
    "slideshow": {
     "slide_type": "slide"
    }
   },
   "source": [
    "# Projeto 4: simulações com EDP\n",
    "\n",
    "## Objetivos:\n",
    "- simular a equação de onda 2d, usando diferenças finitas, em um dominio retangular com obstáculos\n",
    "- entender qual proporção da onda passa os obstáculos dependendo dos comprimentos caraterísticos involvidos"
   ]
  },
  {
   "cell_type": "markdown",
   "metadata": {
    "slideshow": {
     "slide_type": "slide"
    }
   },
   "source": [
    "### A eq. de onda 2d: \n",
    "- incógnita $u\\equiv u(t,x,y)$ com $(x,y) \\in D = [0,L_x] \\times [0,L_y]$ domínio retangular\n",
    "- a eq. é \n",
    "$$ \\partial_t^2 u = c^2 (\\partial_x^2 u + \\partial_y^2 u) $$\n",
    "com $c$ a velocidade de propagação das ondas. \n",
    "\n",
    "**Obs**: unidades $c$ = $[dist]/[tempo]$\n",
    "\n",
    "- Condições de contorno e iniciais:\n",
    "\n",
    "$$ u(t=0,x,y) = u_0(x,y), \\ \\partial_t u (t=0,x,y) = v_0(x,y)$$ $$ u(t,x,y) = 0 \\ se \\ (x,y)\\in \\partial D \\ \\ \\ (Dirichlet)$$\n",
    "com $u_0,v_0 : D \\to \\mathbb{R}$ dados. "
   ]
  },
  {
   "cell_type": "markdown",
   "metadata": {
    "slideshow": {
     "slide_type": "slide"
    }
   },
   "source": [
    "#### obstáculos: \n",
    "\n",
    "![](./figs/onda_obstaculos.jpg)"
   ]
  },
  {
   "cell_type": "markdown",
   "metadata": {
    "slideshow": {
     "slide_type": "slide"
    }
   },
   "source": [
    "#### obstáculos: \n",
    "\n",
    "- cada obstáculo é uma região retangular $R_\\alpha, \\ \\alpha=1,..,M$ disposta como mostra na figura anterior, com separação $d < L_y/M$ entre eles e de comprimento $ a $\n",
    "- a ideia é impor $$u(t,x,y) = 0 \\ \\ se \\ (x,y)\\in R_\\alpha$$\n",
    "ou seja, que a onda não pode se propagar no lugar dos obstáculos"
   ]
  },
  {
   "cell_type": "markdown",
   "metadata": {
    "slideshow": {
     "slide_type": "slide"
    }
   },
   "source": [
    "#### condições iniciais:\n",
    "\n",
    "- consideramos a perturbação inicial $u_0(x,y)$ sendo uma função cujo soporte (i.e. os pontos onde ela não é zero) está concentrado em uma bola de raio $r$ à esquerda dos obstáculos\n",
    "- consideramos a velociade inicial como aquela que corresponde a uma onda viajando com velocidade $c$ à direita:\n",
    "$$ v_0(x,y) = \\partial_t u_0(x-t c, y) |_{t=0} = -c \\partial_x u_0(x,y) $$\n",
    "\n",
    "**Obs**: poderia se acrescentar uma parte vertical $v_0(x,y) = \\partial_t u_0(x-t c, y+mtc) |_{t=0}$ para algum $m$."
   ]
  },
  {
   "cell_type": "markdown",
   "metadata": {
    "slideshow": {
     "slide_type": "slide"
    }
   },
   "source": [
    "#### o efeito dos obstáculos na propagação:\n",
    "\n",
    "- a onda comença a se propagar com $t$ hacia a direita\n",
    "- em algum instante, ela comença a se \"refletir\" pelos obstáculos em várias direções\n",
    "- parte da onda passa para a região direita e parte fica na região esquerda\n",
    "- uma medida de \"quanto da onda passou para a direita a tempo $t$\" é a seguinte integral\n",
    "$$ I(t) = \\int_{L_x/2}^{L_x}dx \\int_{0}^{L_y}dy \\ |u(t,x,y)|^2 $$\n",
    "\n",
    "**Obs**: $I(0) = 0 $ e $I(t)=0$ para $t$ pequeno comparado com $L_x/(2c)$ (tempo que leva chegar na metade)\n",
    "\n",
    "**Obs**: a quantidade transmitida $I(t)$ deve ser comparada com a 'massa' inicial da onda $\\mu_0 = \\int_{D} |u_0|^2 $"
   ]
  },
  {
   "cell_type": "markdown",
   "metadata": {
    "slideshow": {
     "slide_type": "slide"
    }
   },
   "source": [
    "#### modelando com diferenças finitas:\n",
    "\n",
    "- escolhemos intervalos $\\Delta t$ e $\\Delta x = \\Delta y$ (por simplicidade)\n",
    "- $ u(i\\Delta t,j \\Delta x, k \\Delta y) =: u_d(i,j,k)$, $i,j,k \\geq 0 $\n",
    "- eq. de onda discreta: $$u_d(i+1,j,k)-2 u_d(i,j,k)+u_d(i-1,j,k) = \\frac{c^2 \\Delta t^2}{\\Delta x^2} (u_d(i,j+1,k)+u_d(i,j-1,k)+u_d(i,j,k+1)+u_d(i,j,k-1)-4 u_d(i,j,k)) $$\n",
    "\n",
    "**Obs**: permite achar evolução conhecendo $i=0$ e $i=1$"
   ]
  },
  {
   "cell_type": "markdown",
   "metadata": {
    "slideshow": {
     "slide_type": "slide"
    }
   },
   "source": [
    "- condições iniciais $$u_d(0,j,k) = u_0(j\\Delta x, k\\Delta y)$$ \n",
    "$$ u_d(1,j,k) = u_d(0,j,k) - \\frac{c \\Delta t}{\\Delta x} (u_d(0,j+1,k)-u_d(0,j,k) ) $$\n",
    "- condições de bordo:\n",
    " $$ u(i,j,k) = 0 \\ se \\ (j,k) \\ corresponde \\ ao \\ bordo, \\forall i $$\n",
    "- - obstáculos:\n",
    " $$ u(i,j,k) = 0 \\ se \\ (j,k) \\ corresponde \\ a \\ algum \\ R_\\alpha, \\ \\forall i $$"
   ]
  },
  {
   "cell_type": "markdown",
   "metadata": {
    "slideshow": {
     "slide_type": "slide"
    }
   },
   "source": [
    "#### dando valores aos parametros:\n",
    "- podemos colocar $c=1 [dist]/[tempo]$\n",
    "- $L_x = 20$ e $L_y =10$ (leva $20$ unidades de tempo para uma onda ir de uma ponta a outra)\n",
    "- $\\Delta t$ e $\\Delta x=\\Delta y$ a serem ajustados para ter boas aproximações\n",
    "- a função inicial pode ser $u_0(x,y)=g(\\sqrt{(x-x_0)^2+(y-y_0)^2})$ com $g(s)$ uma gaussiana em 1 variavel com largura $\\sigma = r/3$ e com $(x_0,y_0)$ um ponto do lado esquerdo que é o centro da bola (e extendendo como $u_0(x,y)=0$ se $(x,y)$ esta fora da bola $B_r(x_0,y_0)$ )\n",
    "\n",
    "##### Escolhas que depois tem que variar:\n",
    "- colocar a largura dos obstáculos $a = 2 \\Delta x$\n",
    "- $M =10$ obstáculos\n",
    "- $d = 5 \\Delta x$ espaço entre obstáculos\n",
    "- $r = L_y/M$ raio da bola"
   ]
  },
  {
   "cell_type": "markdown",
   "metadata": {
    "slideshow": {
     "slide_type": "slide"
    }
   },
   "source": [
    "# O projeto:\n",
    "\n",
    "- achar uma aproximação numéria à solução $u(t,x,y)$ usando diferenças finitas\n",
    "- entender a evolução temporal da onda gráficamente (seja com sequencias temporais de gráficos 3d ou de gráficos 2d coloridos)\n",
    "- calcular (numéricamente) a integral $I(t)$ de transmissão para o lado direito e analizar sua dependencia com o tempo\n",
    "- entender qualitativamente como a transmissão para o lado direito depende do comprimento caraterístico da onda inicial $r$ e da separação entre os obstáculos $d$ (e do número $M$ de obstáculos e a largura $a$)\n",
    "\n",
    "**Obs**: se $d=0$ a onda não se transmite e $I(t)=0 \\forall t$. Se $d>>r$, $I(t) = \\mu_0$ para $t \\sim 10$ (toda a onda passou). É interessante achar a relação crítica $r/d$ tal que a transmissão para a direita comença a ser $1$% com respeito a $\\mu_0$.\n"
   ]
  },
  {
   "cell_type": "markdown",
   "metadata": {
    "slideshow": {
     "slide_type": "slide"
    }
   },
   "source": [
    "## Informações para a entrega do projeto:\n",
    "\n",
    "- Enviar arquivo no formato de um **caderno Jupyter**.\n",
    "\n",
    "- Enviar por correio eletrônico com cópia para Alejandro Cabrera e Ricardo Rosa.\n",
    "    \n",
    "- Enviar a mensagem com o assunto **Projeto 4 de Modelagem Matemática: EDP**.\n",
    "\n",
    "- Nomear o arquivo do caderno Jupyter com o número do projeto e o seu nome, e.g. `Projeto4_Nome_do_Estudante.ipynb`.\n",
    "\n",
    "- Imagens ou dados que precisem ser carregados pelo caderno devem ser enviados em um subdiretório, na mesma mensagem com o arquivo do caderno Jupyter.\n",
    "    \n",
    "- Podem enviar o caderno e o subdiretório agrupados em um único arquivo `.tar`, `.gz` ou semelhante."
   ]
  },
  {
   "cell_type": "markdown",
   "metadata": {
    "slideshow": {
     "slide_type": "slide"
    }
   },
   "source": [
    "## Organização do caderno:\n",
    "\n",
    "O caderno Jupyter deve conter as seguintes informações:\n",
    "\n",
    "- **Título:** \"Projeto 4 de Modelagem Matemática: simulando EDPs\"\n",
    "- **Nome do estudante**\n",
    "- **Data de entrega**\n",
    "- **Objetivos**\n",
    "- **Descrição do projeto**\n",
    "- **Análise do problema** (incluindo dados trabalhados, métodos utilizadas, resultados obtidos, discussão dos resultados)"
   ]
  },
  {
   "cell_type": "markdown",
   "metadata": {
    "slideshow": {
     "slide_type": "slide"
    }
   },
   "source": [
    "## Data de entrega\n",
    "\n",
    "- Até a quarta-feira dia **12 de junho**.\n"
   ]
  }
 ],
 "metadata": {
  "celltoolbar": "Slideshow",
  "kernelspec": {
   "display_name": "Python 3",
   "language": "python",
   "name": "python3"
  },
  "language_info": {
   "codemirror_mode": {
    "name": "ipython",
    "version": 3
   },
   "file_extension": ".py",
   "mimetype": "text/x-python",
   "name": "python",
   "nbconvert_exporter": "python",
   "pygments_lexer": "ipython3",
   "version": "3.7.1"
  }
 },
 "nbformat": 4,
 "nbformat_minor": 2
}
