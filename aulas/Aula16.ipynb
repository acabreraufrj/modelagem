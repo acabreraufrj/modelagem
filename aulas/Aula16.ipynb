{
 "cells": [
  {
   "cell_type": "markdown",
   "metadata": {
    "slideshow": {
     "slide_type": "slide"
    }
   },
   "source": [
    "Repositorio: https://github.com/acabreraufrj/modelagem,   - - - - - -     [< abrir em binder >](https://mybinder.org/v2/gh/acabreraufrj/modelagem/master?filepath=aulas%2FAula16.ipynb)\n",
    "\n",
    "# Aula 16:  Exercicio em sala\n",
    "\n",
    "## Objetivos:\n",
    "\n",
    "- fazer um código em python que resolva a eq. de Poisson em uma região retangular via diferenças finitas\n",
    "- aplicar ao cálculo de potencial eletrico dentro de uma caixa condutora\n",
    "- verificar \"método das cargas imagens\" e \"Gaiola de Faraday\""
   ]
  },
  {
   "cell_type": "markdown",
   "metadata": {
    "slideshow": {
     "slide_type": "slide"
    }
   },
   "source": [
    "# Eq. de Poisson 2d"
   ]
  },
  {
   "cell_type": "markdown",
   "metadata": {
    "slideshow": {
     "slide_type": "slide"
    }
   },
   "source": [
    "- incógnita $u:D \\subset \\mathbb{R}^2 \\to \\mathbb{R}$\n",
    "$$ \\partial_x^2 u + \\partial_y^2 u = f(x,y)$$\n",
    "com $f$ função dado.\n",
    "\n",
    "\n",
    "- veremos caso particular de condições de bordo (Dirichlet): todos os nodos do bordo estão dados\n",
    "$$ u|_{\\partial D} = h : \\partial D \\to \\mathbb{R}$$"
   ]
  },
  {
   "cell_type": "markdown",
   "metadata": {
    "slideshow": {
     "slide_type": "slide"
    }
   },
   "source": [
    "### Discretizaçao num dominio retangular $D=[0,L_x]\\times [0,L_y]$\n",
    "\n",
    "- [Eq. de Poisson discreta](https://en.wikipedia.org/wiki/Discrete_Poisson_equation)\n",
    "- consideramos discretização com $\\Delta x = \\Delta y$,\n",
    "$$ u(i,j) := u(i \\Delta x, j \\Delta y),\\  i=0,..,n_x-1, \\ j=0,..,n_y-1$$\n",
    "- os valores $u(i,j)$ correspondientes ao interior de $D$ podem ser compilados em um vetor (ordenados \"naturalmente\")\n",
    "$$ U = (u(1,1),u(2,1),u(3,1),...,u(n_x-2,1),u(1,2),u(2,2),...) $$\n",
    "de tamanho $(n_x-2) (n_y -2)$\n",
    "- pensando no laplaciano discreto, a eq. em diferenças finitas toma a forma:\n",
    "$$ \\delta^2_x u + \\delta^2_y u (i,j) = \\frac{1}{\\Delta x^2} ( u(i+1,j)+u(i-1,j)+u(i,j+1)+u(i,j-1)-4u(i,j)) = f(i,j)$$\n",
    "- as condições de bordo são $u(i,j) = h(i,j)$ para $(i,j)$ representando pontos no bordo"
   ]
  },
  {
   "cell_type": "markdown",
   "metadata": {
    "slideshow": {
     "slide_type": "slide"
    }
   },
   "source": [
    "- pode-se juntar todas as eqs. algebricas resultantes em um grande sistema linear da forma\n",
    "$$ A U = b $$\n",
    "onde $A$ é uma matriz quadrada com $(n_x-2) (n_y -2)$ linhas, que é esparça com entradas $0,-1$ ou $4$, e $b$ é um vetor que tem of $f(i,j)$ correspondentes ao interior de $D$ assim como os $h(i,j)$ correspondentes ao bordo\n",
    "- como $A$ é esparça, o sistema pode-se resolver em muitos casos, obtendo a aproximação numérica $u(i,j)$ para $u(x,y)$"
   ]
  },
  {
   "cell_type": "markdown",
   "metadata": {
    "slideshow": {
     "slide_type": "slide"
    }
   },
   "source": [
    "**Obs**: uma modelagem concreta consiste em que $u(x,y)$ descreve o potencial eletrico gerado por uma distribuição de carga $\\rho(x,y)$ via $f(x,y) = -\\rho(x,y)/\\epsilon_0$ ([wiki](https://en.wikipedia.org/wiki/Electric_potential)). \n",
    "\n",
    "Se tem uma superficie conductora $\\Sigma$, $u$ tem uma condiçao de bordo nesta superficie: $u|_\\Sigma$ é constante (suponhamos zero se o condutor está conectado 'a terra'). \n",
    "\n",
    "É interessante achar o potencial eletrico dado por diversas distribuicoes de carga e configuracoes de superficies condutoras: \n",
    "\n",
    "- verificar ['cargas imagens'](https://en.wikipedia.org/wiki/Method_of_image_charges), subdividindo o dominio e verificando que a solução num sub-compartimento coincide com a soma dos potenciais incluindo cargas imagens fora.\n",
    "- verificar o efeito ['gaiola de Faraday'](https://en.wikipedia.org/wiki/Faraday_cage) colocando uma gaiola dentro do dominio, cargas fora da gaiola, e verificando que o potencial dentro é constante."
   ]
  },
  {
   "cell_type": "markdown",
   "metadata": {
    "slideshow": {
     "slide_type": "slide"
    }
   },
   "source": [
    " ![](./figs/cargas_eletricas.png)"
   ]
  },
  {
   "cell_type": "markdown",
   "metadata": {
    "slideshow": {
     "slide_type": "slide"
    }
   },
   "source": [
    " ![](./figs/gaiola_faraday.png) "
   ]
  },
  {
   "cell_type": "markdown",
   "metadata": {
    "slideshow": {
     "slide_type": "slide"
    }
   },
   "source": [
    "## Roteiro:\n",
    "- Fazer um algoritmo que defina a matriz $A$ e o vetor $b$ a partir da configuração, de $f$ e de $h$\n",
    "- investigar qual solver de sistemas lineares usar para o caso em que $A$ é grande (sabemos que é esparça!)\n",
    "- fazer um solver para a eq. de Poisson: recebe $\\Delta x$, $f$ e $h$ e devolve $u(i,j)$\n",
    "- aplicar ao caso em que $f$ é uma distribuição de cargas (pontuais) no dominio e $h=0$, verificar que a solução faz sentido físico\n",
    "- modificar o algoritmo para incorporar sub-dominios e suas condições de bordo, verificar o método das imagens e gaiola de Faraday"
   ]
  },
  {
   "cell_type": "code",
   "execution_count": null,
   "metadata": {},
   "outputs": [],
   "source": []
  }
 ],
 "metadata": {
  "celltoolbar": "Slideshow",
  "kernelspec": {
   "display_name": "Python 3",
   "language": "python",
   "name": "python3"
  },
  "language_info": {
   "codemirror_mode": {
    "name": "ipython",
    "version": 3
   },
   "file_extension": ".py",
   "mimetype": "text/x-python",
   "name": "python",
   "nbconvert_exporter": "python",
   "pygments_lexer": "ipython3",
   "version": "3.7.1"
  }
 },
 "nbformat": 4,
 "nbformat_minor": 2
}
