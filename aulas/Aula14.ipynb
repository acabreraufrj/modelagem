{
 "cells": [
  {
   "cell_type": "markdown",
   "metadata": {
    "slideshow": {
     "slide_type": "slide"
    }
   },
   "source": [
    "Repositorio: https://github.com/acabreraufrj/modelagem\n",
    " \n",
    "**[< abrir em binder >](https://mybinder.org/v2/gh/acabreraufrj/modelagem/master?filepath=aulas%2FAula14.ipynb), [< slides >](https://github.com/acabreraufrj/modelagem/master?filepath=aulas%2FAula14.slides#)\n",
    "\n",
    "# Aula: modelagem com equações em derivadas parciais (EDP)\n",
    "\n",
    "## Objetivos:\n",
    "\n",
    "- ver alguns algumas noções básicas de EDPs \n",
    "- ver alguns exemplos classicos\n",
    "- construir aproximações numéricas às soluções, via diferenças finitas, com python\n",
    "- simular a eq. de onda com 2 condições de contorno diferentes, e a eq. de difussão"
   ]
  },
  {
   "cell_type": "markdown",
   "metadata": {
    "slideshow": {
     "slide_type": "slide"
    }
   },
   "source": [
    "# Lembremos: Modelagem = 1+2+3\n",
    "\n",
    "![](./figs/diagr_modelagem_def.jpg)"
   ]
  },
  {
   "cell_type": "markdown",
   "metadata": {
    "slideshow": {
     "slide_type": "slide"
    }
   },
   "source": [
    "- até agora, nos focamos em (1,2) que involvem **equações diferenciais ordinarias (EDO)**: equações que involvem derivadas com respeito a só uma variável (típicamente a variavel $t$ que representa o tempo)\n",
    "- em geral, as quantidades que se desejam descrever dependem de muitas variáveis (eg: tempo, posição, temperatura, pressão, variáveis contextuais (eg: parémetros económicos), ...). \n",
    "- o fenômeno de que as 'leis' que regem o comportamento destas quantidades tomam forma simplificada no limite infinitesimal também vale para funções de muitas variáveis\n",
    "- con grande generalidade, modelos para quantidades como funções de varias variáveis involvem **EDPs**\n"
   ]
  },
  {
   "cell_type": "markdown",
   "metadata": {
    "slideshow": {
     "slide_type": "slide"
    }
   },
   "source": [
    "\n",
    "**Obs:** mesmo dentro da teoría de movimento de Newton, foi percebido logo que em muitos casos a relação $$m \\ddot x = F$$ precisa ser complementada com um **modelo para $F$**, que típicamente involve uma outra equação do tipo EDP para $F$ (eg: força eletromagnética determinada pelas equações de Maxwell)"
   ]
  },
  {
   "cell_type": "markdown",
   "metadata": {
    "slideshow": {
     "slide_type": "slide"
    }
   },
   "source": [
    "## mais comentarios:\n",
    "\n",
    "- EDPs aparecem típicamente ligadas a problemas físicos (ou que podem ser ligados a estes por analogía)\n",
    "- em física, muitas vezes as funções incógnita representam *valores médios macroscópicos* de quantidades microscopicas sujetas a leis complexas (eg: temperatura de gases, densidade/velocidade de fluidos, ...)\n",
    "- muitas vezes, a EDP pode ser interpretada como uma versão infintesimal de uma *equação de balance* (eg: balance de massas, energia, forças, momento,...). Neste processo, primeiramente se tem versões integrais e depois se postula que o balance deve ser verificado infinitesimalmente."
   ]
  },
  {
   "cell_type": "markdown",
   "metadata": {
    "slideshow": {
     "slide_type": "slide"
    }
   },
   "source": [
    "## Ex: [Ref](https://cage.ugent.be/~ms/tea/PDEs/eerste_hoofdstuk.pdf)\n",
    "\n",
    "- particulas com densidade $\\rho(t,x), x\\in \\mathbb{R}^3$ são arrastadas por um campo de velocidades $x \\mapsto v(x) \\in \\mathbb{R}^3$\n",
    "- conservação da massa (ou numero de particulas): ![](./figs/balance_massa.png)\n",
    "$ \\int_\\Omega \\partial_t \\rho + \\int_{\\partial \\Omega} \\rho \\ v\\cdot n =0$ ( $n$ vetor normal ao bordo $\\partial \\Omega$)\n",
    "- usando [Teo de Gauss](https://en.wikipedia.org/wiki/Divergence_theorem), e promovendo a conservação a nível infinitesimal obtemos a EDP: **Equação de transporte linear**\n",
    "$$ \\partial_t \\rho + div_x(\\rho \\ v) = 0, \\forall t,x$$"
   ]
  },
  {
   "cell_type": "markdown",
   "metadata": {
    "slideshow": {
     "slide_type": "slide"
    }
   },
   "source": [
    "# Resolvendo EDPs (teoría)"
   ]
  },
  {
   "cell_type": "markdown",
   "metadata": {
    "slideshow": {
     "slide_type": "slide"
    }
   },
   "source": [
    "## resolvendo EDPs:\n",
    "\n",
    "### Existencia:\n",
    "nem sempre existem soluções. As vezes existem em certos sub-dominios e a solução desenvolve singularidades fora dele (eg: só existe para tempos curtos). O problema de existencia é dificil e não existem teorias gerais.\n",
    "\n"
   ]
  },
  {
   "cell_type": "markdown",
   "metadata": {
    "slideshow": {
     "slide_type": "slide"
    }
   },
   "source": [
    "## resolvendo EDPs:\n",
    "\n",
    "\n",
    "### Unicidade e condições de bordo: \n",
    "em geral, precisamos determinar algumas 'condições' para seleccionar uma única solução dentre muitas possiveis (analogamente a condições iniciais em EDO). Muitas vezes, estas condições são 'de bordo', ou seja, condições sob a função no bordo $\\partial D$ do seu domínio $D$ de definição. Nomenclatura:\n",
    "\n",
    "**tipo Dirichlet:** condições sob o valor da função no $\\partial D$\n",
    "\n",
    "**tipo Neumann:** condições sob o valor das derivadas função no $\\partial D$ (típicamente, nas componentes normais ao bordo)\n",
    "\n",
    "**Obs:** as vezes são mixtas, as vezes involvem $\\| x \\| \\to \\infty$ condiçoes no infinito,...\n",
    "\n"
   ]
  },
  {
   "cell_type": "markdown",
   "metadata": {
    "slideshow": {
     "slide_type": "slide"
    }
   },
   "source": [
    "\n",
    "\n",
    "### Dependencia nas condições: \n",
    "uma propriedade boa da EDP é que a solução univocamente determinada por uma condição dependa continuamente dos parametros que entram na condição. Se não for o caso, isto dificulta a aproximação numérica (pois pequenas mudanças no esquema de aproximação podem resultar em grandes mudanças na solução!)"
   ]
  },
  {
   "cell_type": "markdown",
   "metadata": {
    "slideshow": {
     "slide_type": "slide"
    }
   },
   "source": [
    "### Comentario:\n",
    "\n",
    "lembremos que, em modelagem, precisamos que o modelo seja **\"util\"** [Aula 4]. \n",
    "\n",
    "Se uma EDP é complicada demais, não temos resultados teóricos de existencia e unicidade, e/ou não conseguimos aproximar a solução (computacionalmente) de maneira satisfatoria, etc. então não é um bom ingrediente para o modelo."
   ]
  },
  {
   "cell_type": "markdown",
   "metadata": {
    "slideshow": {
     "slide_type": "slide"
    }
   },
   "source": [
    "## Algumas definições teóricas gerais:\n",
    "\n",
    "- Pensemos abstractamente numa função $u: D \\subset \\mathbb{R}^d \\to \\mathbb{R}$ com $d$ variáveis (a incógnita da EDP)\n",
    "- se pensamos em todas as possíveis derivadas parciais, denotamos elas com *notação multi-indice*:\n",
    "$$ \\partial_x^\\alpha u := \\frac{\\partial u}{\\partial x_1^{\\alpha_1} ...\\partial x_d^{\\alpha_d}}, \\ \\alpha=(\\alpha_1,..,\\alpha_d) $$\n",
    "\n",
    "**Ex:** $\\frac{\\partial u}{\\partial x_1 \\partial x_2}$ tem multindice $\\alpha = (1,1,0,..,0)$\n",
    "\n",
    "- fixando $k$ número máximo de derivadas, temos um grande vetor que tem a coleção de todas as possiveis derivadas parciais até ordem $k$: (incluindo $u$ sem derivar para $\\alpha = (0,0,..,0)$),\n",
    "$$ \\vec \\partial^{(k)} u = (u, \\frac{\\partial u}{\\partial x_1}, ... )$$\n",
    "\n",
    "- uma EDP de ordem $k$ é uma expressão da forma \n",
    "$$ F(x, \\vec \\partial^{(k)} u ) = 0 , \\ \\ \\forall x \\in D$$"
   ]
  },
  {
   "cell_type": "markdown",
   "metadata": {
    "slideshow": {
     "slide_type": "slide"
    }
   },
   "source": [
    "- a EDP se diz *linear* se é da forma \n",
    "$$ \\sum_{\\alpha} a_\\alpha(x) \\partial_x^\\alpha u (x) = 0 $$\n",
    "- para EDPs de 2a ordem lineares, o termo $\\sum_{i,j=1}^d a_{ij}(x) \\partial^2 u / \\partial x_i \\partial x_j$ é o principal. Consideremos a matriz $(a_{ij}(x))$ para todos os $x$.  A EDP se chama: *parabólica* se a matriz tem nucleo, *eliptica* se tem todos os autovalores $\\neq 0$ e do mesmo sinal, *hiperbolica* se tem todos os autovalores $\\neq 0$ e todos menos um tem o mesmo sinal.\n",
    "\n",
    "- existem noções de semilinear, quasilinear, etc."
   ]
  },
  {
   "cell_type": "markdown",
   "metadata": {
    "slideshow": {
     "slide_type": "slide"
    }
   },
   "source": [
    "- um exemplo *não-linear* é\n",
    "$$ div( \\frac{grad(u)}{\\sqrt{1+\\| grad(u) \\|^2}} ) = 0 $$\n",
    "(aparece na descrição de superficies minimas, eg: bolhas de sabão)\n",
    "\n",
    "- podemos tambem ter *sistemas de EDPs* com varias incognitas $u_1,..,u_m$ (ou pensar $U:D\\subset \\mathbb{R}^d \\to \\mathbb{R}^m$ como incógnita) \n",
    "\n",
    "**Ex**: $U(t,x) = (E(t,x),B(t,x)) \\in \\mathbb{R}^3 \\times \\mathbb{R}^3$ campo eletrico e magnetico nas eqs. de Maxwell\n",
    "\n",
    "**Obs:** algumas EDPs aparecem como caracterizando soluções de problemas variacionais: achar $u$ que minimiza uma certa expressão funcional $S[u]$ (Eg: superficie minima, energia minima, ..., funcionais de fisica-matematica como 'Einstein-Hilbert' para o espaço-tempo,...)"
   ]
  },
  {
   "cell_type": "markdown",
   "metadata": {
    "slideshow": {
     "slide_type": "slide"
    }
   },
   "source": [
    "# Alguns exemplos clássicos:\n",
    "\n",
    "- **eq. de difusão** (eg: temperatura via transferencia de calor): $u\\equiv u(t,x)$, $x \\in \\mathbb{R}^n$ \n",
    "$$\\partial_t u = c \\Delta u = c \\sum_{i=1}^n \\frac{\\partial^2 u}{\\partial x_i^2}$$\n",
    "\n",
    "**Obs:** é um paradigma de eq. *difusivas* (aqui o calor esta sendo difundido), é linear, de 2a ordem (parabólica)\n",
    "\n",
    "- **eq. da onda**:  $u\\equiv u(t,x)$, $x \\in \\mathbb{R}^n$ \n",
    "\n",
    "$$\\partial_t\\partial_t u = c^2 \\Delta u $$\n",
    "\n",
    "**Obs:** é um paradigma de eq. que aparecem em fisica-matematica com generalizações que vão desde mecanica do continuo até mecanica quantica, relatividade e geofísica.\n"
   ]
  },
  {
   "cell_type": "markdown",
   "metadata": {
    "slideshow": {
     "slide_type": "slide"
    }
   },
   "source": [
    "## Lógica por trás da eq. do calor:"
   ]
  },
  {
   "cell_type": "markdown",
   "metadata": {
    "slideshow": {
     "slide_type": "slide"
    }
   },
   "source": [
    "## Lógica por trás da eq. da onda:"
   ]
  },
  {
   "cell_type": "markdown",
   "metadata": {
    "slideshow": {
     "slide_type": "slide"
    }
   },
   "source": [
    "# Aproximação numérica as soluções via diferenças finitas\n",
    "\n",
    "- a ideia é fazer uma *versão discreta* das derivadas que aparecem na EDP:\n",
    "$$ \\frac{\\partial u}{\\partial x_i} (x) \\to \\delta_{x_i} u(x) := \\frac{u(x+\\Delta x \\cdot e_i)  - u(x)}{\\Delta x_i} $$\n",
    "$e_i = (0,..,0,1,0,..,0)$ elemento i-esimo da base canonica de $\\mathbb{R}^d$.\n",
    "\n",
    "**Obs:** quando $\\Delta x_i \\to 0$, $\\delta_{x_i}u \\to \\frac{\\partial u}{\\partial x_i}$.\n",
    "\n",
    "- para derivadas segundas, usamos\n",
    "$$ \\delta^2_{x_i} u(x):= \\frac{u(x+\\Delta x \\cdot e_i)  - 2 u(x) +u(x - \\Delta x \\cdot e_i) }{(\\Delta x_i)^2} $$\n",
    "\n",
    "**Obs:** quando $\\Delta x_i \\to 0$, $\\delta^2_{x_i}u \\to \\frac{\\partial^2 u}{\\partial x^2_i}$. \n",
    "\n",
    "**Obs:** Existem outras aproximações discretas as derivadas de qualquer ordem, em cada problema pode ser melhor usar uma ou outra.\n"
   ]
  },
  {
   "cell_type": "markdown",
   "metadata": {
    "slideshow": {
     "slide_type": "slide"
    }
   },
   "source": [
    "- **Discretização do dominio:** da função $x \\mapsto u(x)$ só guardamos os valores em alguns pontos. Por exemplo, se o dominio $D = [a_1,b_1]\\times ... \\times [a_d,b_d]$ (um tijolo d-dimensional), dividimos cada $[a_i,b_i]$ em subintervalos de comprimento $\\Delta x_i$, e guardamos\n",
    "$$ u(a_1 + m_1 \\Delta x_1, ... , a_d + m_d \\Delta x_d) =: u_d (m_1,..,m_d),$$\n",
    "$m_j=1,..,n_{x_j}$\n",
    "- **Discretização da EDP**: trocar cada $\\frac{\\partial u}{\\partial x_1^{\\alpha_1} ...\\partial x_d^{\\alpha_d}}$ por aproximações discretas involvendo \"diferenças finitas (não infinitesimais)\" dos $u_d$ e resolver *algebricamente*"
   ]
  },
  {
   "cell_type": "markdown",
   "metadata": {
    "slideshow": {
     "slide_type": "slide"
    }
   },
   "source": [
    "### Exemplo:\n",
    "\n",
    "- incognita $u(t,x)$, com $x \\in [0,L_x] \\subset \\mathbb{R}^1$ \"temperatura a tempo $t\\in [0,T]$ na posicao $x$\" \n",
    "- **eq. simplificada de transferencia de calor (1-d espacial)**:\n",
    "$$ \\partial_t u = - k \\partial_x u, \\forall t,x$$\n",
    "- discretização: $t = m_t \\Delta t$, $m_t =0,..,n_t$ grade temporal,  $x=m_x \\Delta x$, $m_x=1,..,n_x$ grade espacial,\n",
    "$$ u(m_t \\Delta t, m_x \\Delta x) =: u_d (m_t,m_x)$$\n",
    "- eq. discretizada\n",
    "$$ \\frac{u_d(m_t+1,m_x)-u_d(m_t,m_x)}{\\Delta t} = - k \\frac{u_d(m_t,m_x+1)-u_d(m_t,m_x)}{\\Delta x}$$\n",
    "$$ \\iff $$ \n",
    "$$ u_d(m_t + 1,m_x) = u_d(m_t,m_x) - k \\frac{\\Delta t}{\\Delta x} (u_d(m_t,m_x+1)-u_d(m_t,m_x) ) $$\n",
    "\n",
    "**Obs**: se conhecemos $u_d(m_t,m_x)$ para todos $m_x=1,..,n_x$ e para $m_t \\leq r$, a eq. acima permite resolver para $m_t = r +1$.\n"
   ]
  },
  {
   "cell_type": "markdown",
   "metadata": {
    "slideshow": {
     "slide_type": "slide"
    }
   },
   "source": [
    "# Exemplos de simulações numéricas"
   ]
  },
  {
   "cell_type": "code",
   "execution_count": 1,
   "metadata": {
    "slideshow": {
     "slide_type": "slide"
    }
   },
   "outputs": [],
   "source": [
    "import numpy as np\n",
    "import matplotlib.pyplot as plt\n",
    "from IPython.display import clear_output\n",
    "from matplotlib.animation import FuncAnimation"
   ]
  },
  {
   "cell_type": "markdown",
   "metadata": {
    "slideshow": {
     "slide_type": "slide"
    }
   },
   "source": [
    "## Eq. de onda com $n=1$\n",
    "- incognita $u(t,x), \\ t\\in [0,T_{max}], \\ x\\in [0,L_x] \\subset \\mathbb{R^{n=1}}$\n",
    "- equação\n",
    "$$ \\partial_t^2 u = c^2 \\partial_x^2 u$$ \n",
    "- condições de bordo \n",
    "$$u(t=0,x) = f(x), \\partial_t u (t=0,x) = v(x) $$ \n",
    "$$u(t,x=0) = 0 \\ u(t, x=L_x) = 0 , \\ (Dirichlet)$$"
   ]
  },
  {
   "cell_type": "markdown",
   "metadata": {
    "slideshow": {
     "slide_type": "slide"
    }
   },
   "source": [
    "- notar que, para qualquer $f$ suave com $f(0)=f(L_x)=0$, \n",
    "$$ u(t,x) = f(x \\pm c t)$$\n",
    "é uma solução tipo **onda viajante** (para $t$ pequeno, antes de chegar ao bordo de $[0,L_x]$)\n",
    "- vamos escolher a velocidade inicial $v(x)$ implicitamente para que $$u(0+\\Delta t, x) = f(x \\pm c \\Delta t) $$"
   ]
  },
  {
   "cell_type": "markdown",
   "metadata": {
    "slideshow": {
     "slide_type": "slide"
    }
   },
   "source": [
    "### discretização:\n",
    "\n",
    "- eq. discretizada\n",
    "$$ \\delta^2_{t} u(t,x)= c^2 \\delta_x^2 u(t,x)$$\n",
    "\n",
    "- escrevendo $u_d(m_t,m_x) = u(m_t \\Delta t, m_x \\Delta x)$,\n",
    "$$ u_d(m_t+1,m_x) = 2 u_d(m_t,m_x) - u_d(m_t-1,m_x) + c^2 \\frac{(\\Delta t)^2}{(\\Delta x)^2} (u_d(m_t,m_x+1) - 2 u_d(m_t,m_x) + u_d(m_t,m_x-1))   $$ \n",
    "permite resolver em $t=(m_t+1)\\Delta t$ sabendo os dados em $t=m_t \\Delta t$ (comença com as condições iniciais em $t$)\n",
    "- condições de bordo em $x$: $u(m_t,0) = 0 = u(m_t, n_x), \\ \\forall m_t=0,..,n_t$"
   ]
  },
  {
   "cell_type": "code",
   "execution_count": 2,
   "metadata": {
    "slideshow": {
     "slide_type": "slide"
    }
   },
   "outputs": [],
   "source": [
    "# parametros da EDP\n",
    "Lx = 4000     # metros\n",
    "Tmax = 3    # seg\n",
    "c = 3000.0    # metros por seg\n",
    "\n",
    "# parametros de discretização\n",
    "nx = 400      # numero de pontos na grade x\n",
    "dx = Lx/nx    # delta x\n",
    "dt = dx/2/c    # delta t\n",
    "nt = int(Tmax / dt) # numero de pontos na grade t\n"
   ]
  },
  {
   "cell_type": "code",
   "execution_count": 3,
   "metadata": {
    "slideshow": {
     "slide_type": "slide"
    }
   },
   "outputs": [
    {
     "data": {
      "text/plain": [
       "[<matplotlib.lines.Line2D at 0x7f9eac0dbc50>]"
      ]
     },
     "execution_count": 3,
     "metadata": {},
     "output_type": "execute_result"
    },
    {
     "data": {
      "image/png": "[encoded data removed]",
      "text/plain": [
       "<Figure size 432x288 with 1 Axes>"
      ]
     },
     "metadata": {
      "needs_background": "light"
     },
     "output_type": "display_data"
    }
   ],
   "source": [
    "# a funcao gaussiana para usar como condicao inicial\n",
    "def normal(x,sigma,mu):\n",
    "    ret = 1/(sigma * np.sqrt(2 * np.pi)) * np.exp( - (x - mu)**2 / (2 * sigma**2) )\n",
    "    return ret\n",
    "sigma=1/2\n",
    "mu=2\n",
    "intx=np.linspace(-5,10,1000)\n",
    "plt.plot(intx,[normal(x,sigma,mu) for x in intx])\n"
   ]
  },
  {
   "cell_type": "code",
   "execution_count": 4,
   "metadata": {
    "slideshow": {
     "slide_type": "slide"
    }
   },
   "outputs": [
    {
     "data": {
      "image/png": "[encoded data removed]",
      "text/plain": [
       "<Figure size 432x288 with 1 Axes>"
      ]
     },
     "metadata": {
      "needs_background": "light"
     },
     "output_type": "display_data"
    }
   ],
   "source": [
    "# Condiçoes iniciais e inicialização de variaveis\n",
    "u = np.zeros(nx)\n",
    "uold = np.zeros(nx) \n",
    "unew = np.zeros(nx)\n",
    "uxx = np.zeros(nx)\n",
    "# uma funçao de x\n",
    "def funf(x):\n",
    "    sigma = 5*dx\n",
    "    mu = Lx/2\n",
    "    ret=normal(x,sigma,mu)   \n",
    "    return ret\n",
    "for ix in range(nx):\n",
    "    uold[ix] = funf(ix*dx) # u(t=0,x)=f(x)\n",
    "    u[ix] = funf(ix*dx +c*dt) # u(t=0 +Delta t,x) = f(x+c Delta t) onda viagante a ezquerda\n",
    "plt.plot(uold, label='uold')\n",
    "plt.plot(u, label='u')\n",
    "plt.legend()\n",
    "plt.show()"
   ]
  },
  {
   "cell_type": "code",
   "execution_count": 5,
   "metadata": {
    "slideshow": {
     "slide_type": "slide"
    }
   },
   "outputs": [],
   "source": [
    "# evolução temporal\n",
    "uts = []\n",
    "uts.append(uold)\n",
    "for it in range(nt):\n",
    "    uts.append(u)\n",
    "    uxx[1:nx-1] = u[2:nx] - 2*u[1:nx-1] + u[:nx-2] #mantemos os extremos x=0,L sempre com uxx=0\n",
    "    uxx /= dx ** 2\n",
    "    # extrapolacao temporal\n",
    "    unew = 2 * u - uold + dt ** 2 * c ** 2 * uxx \n",
    "    uold, u = u, unew\n",
    "   "
   ]
  },
  {
   "cell_type": "code",
   "execution_count": 6,
   "metadata": {
    "slideshow": {
     "slide_type": "slide"
    }
   },
   "outputs": [
    {
     "data": {
      "image/png": "[encoded data removed]",
      "text/plain": [
       "<Figure size 432x288 with 1 Axes>"
      ]
     },
     "metadata": {
      "needs_background": "light"
     },
     "output_type": "display_data"
    }
   ],
   "source": [
    "# plotando t mapsto u(t,x)\n",
    "def plotar_u(isnap,intervalo,uts):\n",
    "    for it in intervalo:\n",
    "        if it % isnap == 0:    # se isnap é maior, temos menos frames\n",
    "            leg = 't='+ str(int(100*(it*Tmax/nt))/100) +'seg'\n",
    "            plt.plot(uts[it],label=leg)\n",
    "            plt.legend()\n",
    "            clear_output(wait = True)\n",
    "            plt.pause(0.1)\n",
    "    return\n",
    "\n",
    "#plotar para todo t\n",
    "isnap =40  # frequencia de ploteo\n",
    "intervalo = range(nt)\n",
    "plotar_u(isnap,intervalo,uts)\n"
   ]
  },
  {
   "cell_type": "code",
   "execution_count": 7,
   "metadata": {
    "slideshow": {
     "slide_type": "subslide"
    }
   },
   "outputs": [],
   "source": [
    "# gerando um gif\n",
    "def gerar_gif(isnap, tempos, uts, nome_arch, intervalo_gif): \n",
    "    fig, ax = plt.subplots()\n",
    "    ax.plot(uts[0])\n",
    "    def update(i):\n",
    "        label = 't='+ str(int(100*(i*Tmax/nt))/100) +'seg'\n",
    "        ax.clear()\n",
    "        ax.plot(uts[i])\n",
    "        ax.set_xlabel(label)\n",
    "        return ax\n",
    "    anim = FuncAnimation(fig, update, frames=tempos, interval=intervalo_gif)\n",
    "    anim.save('./figs/'+ nome_arch +'.gif', dpi=80, writer='imagemagick')\n",
    "    \n",
    "isnap = 40    # frequencia de ploteo\n",
    "tempos = [it for it in range(nt) if it % isnap == 0]\n",
    "intervalo_gif = 5*len(tempos) # quanto maior o intervalo_gif, mais tempo vai ficar em cada frame na reproducao\n",
    "#gerar_gif(isnap,tempos,uts,'onda_refletada_full',intervalo_gif)\n"
   ]
  },
  {
   "cell_type": "markdown",
   "metadata": {
    "slideshow": {
     "slide_type": "slide"
    }
   },
   "source": [
    "![](./figs/onda_refletada_full.gif)"
   ]
  },
  {
   "cell_type": "markdown",
   "metadata": {
    "slideshow": {
     "slide_type": "slide"
    }
   },
   "source": [
    "## Obs: a onda se propaga inicialmente para a esquerda (por que?)\n"
   ]
  },
  {
   "cell_type": "markdown",
   "metadata": {
    "slideshow": {
     "slide_type": "slide"
    }
   },
   "source": [
    "## Obs: a onda se propaga para a esquerda (por que?)\n",
    "\n",
    "porque colocamos as condições iniciais correspondentes a solução viajante a esq. $u(t,x) = f(x + ct)$, o ponto $x+ct$ esta a direita de $x$, logo $u$ \"ve\" que o grafico de $f$ se move para a esquerda"
   ]
  },
  {
   "cell_type": "markdown",
   "metadata": {
    "slideshow": {
     "slide_type": "slide"
    }
   },
   "source": [
    "## Obs: a velocidade da onda é $c$\n",
    "\n",
    "- notar que colocamos $ c=3000 m/s$ e o comprimento espacial $L_x = 4000 m$, e a função $u(t=0,x)$ estava centrada em $x=L_x/2$, logo deve demorar $\\sim 1.33s$ em voltar ao ponto inicial depois de refletir uma vez.\n",
    "\n",
    "- o tempo de simulaçao é $T_{max} = 3s$, logo deveria se refletir 2 veces (e andar mais um pouquinho), que é o que a onda simulada, de fato, faz!"
   ]
  },
  {
   "cell_type": "markdown",
   "metadata": {
    "slideshow": {
     "slide_type": "slide"
    }
   },
   "source": [
    "## Obs: a onda se \"reflite invertida\" quando chega nos extremos $x=0,L_x$. Vejamos com detalhe:"
   ]
  },
  {
   "cell_type": "code",
   "execution_count": 8,
   "metadata": {
    "slideshow": {
     "slide_type": "slide"
    }
   },
   "outputs": [
    {
     "data": {
      "image/png": "[encoded data removed]",
      "text/plain": [
       "<Figure size 432x288 with 1 Axes>"
      ]
     },
     "metadata": {
      "needs_background": "light"
     },
     "output_type": "display_data"
    }
   ],
   "source": [
    "# vendo como a onda reflite\n",
    "ot = 2 # seg\n",
    "iot = int(ot/dt)\n",
    "jant = 0.2 # seg\n",
    "ijant = int(jant/dt)\n",
    "intervalo = range(iot - ijant,iot + ijant) #indices de tempo\n",
    "isnap = 5\n",
    "plotar_u(isnap,intervalo,uts)"
   ]
  },
  {
   "cell_type": "code",
   "execution_count": 9,
   "metadata": {
    "slideshow": {
     "slide_type": "subslide"
    }
   },
   "outputs": [],
   "source": [
    "isnap = 5    # frequencia de ploteo\n",
    "tempos = [it for it in intervalo if it % isnap == 0]\n",
    "intervalo_gif = 5*len(tempos) # quanto maior o intervalo_gif, mais tempo vai ficar em cada frame na reproducao\n",
    "# gerar_gif(isnap,tempos,uts,'onda_refletada_detalhe',intervalo_gif)\n"
   ]
  },
  {
   "cell_type": "markdown",
   "metadata": {
    "slideshow": {
     "slide_type": "slide"
    }
   },
   "source": [
    "![](./figs/onda_refletada_detalhe.gif)"
   ]
  },
  {
   "cell_type": "markdown",
   "metadata": {
    "slideshow": {
     "slide_type": "slide"
    }
   },
   "source": [
    "# Implementando outras condições de contorno "
   ]
  },
  {
   "cell_type": "markdown",
   "metadata": {
    "slideshow": {
     "slide_type": "slide"
    }
   },
   "source": [
    "## \"extremos livres\"\n",
    "\n",
    "$$ u(t=0,x) = f(x), \\ \\partial_tu(t=0,x) = v(x) (*)$$\n",
    "\n",
    "$$ \\partial_x u(t,x=0) = 0, \\partial_x u(t, x=L_x) = 0 \\ \\ (Neumann)$$\n",
    "\n",
    "(* ) como antes"
   ]
  },
  {
   "cell_type": "markdown",
   "metadata": {
    "slideshow": {
     "slide_type": "slide"
    }
   },
   "source": [
    "### Sobre a discretização de derivadas num bordo em geral ([ [Ref](https://link.springer.com/chapter/10.1007/978-3-319-55456-3_2#Equ62) ]*)\n",
    "\n",
    "- suponhamos que temos $f(x)$ geral definida em $[a,b]$ e queremos modelar $\\partial_x f(a)$\n",
    "- é comum usar uma \"diferença finita centrada\" \n",
    "$$ \\partial_x f(a) \\simeq \\frac{f(a+\\Delta x) -f(a-\\Delta x)}{2\\Delta x} (=: D_{2t}f(a)) $$\n",
    "\n",
    "- aplicando isto a nossa condiçao Neumann obtemos uma (possivel) versao discreta:\n",
    "$$ u(t,-\\Delta x) = u(t, \\Delta x) , \\ \\ u(t, L_x - \\Delta x) = u(t, L_x + \\Delta x) $$\n",
    "\n",
    "( * ) Linge S., Langtangen H.P. (2017) Wave Equations. In: Finite Difference Computing with PDEs. Texts in Computational Science and Engineering, vol 16. Springer, Cham\n"
   ]
  },
  {
   "cell_type": "markdown",
   "metadata": {
    "slideshow": {
     "slide_type": "slide"
    }
   },
   "source": [
    "### um truque para condições de Neumann: \n",
    "\n",
    "- para implementar as condicoes Neumann em $x$ sem ter que modificar o metodo, consideramos os intervalos extendidos com 2 pontos \"ghost\" $[-\\Delta x, L_x + \\Delta x]$ \n",
    "- o indice iria: $m_x= -1,0,...,n_x, n_x +1$\n",
    "\n",
    "**Obs:** no python nao tem indices negativos, então fazemos um shift para a direita\n",
    "$$ \\tilde m_x = m_x +1$$\n",
    "\n",
    "- a ideia é resolver com mesmo o algoritmo anterior (que podia implementar automaticamente condições Dirichlet pois nao mexia com os valores de u em $x=0,L$) mas agora em $[-\\Delta x,L_x+\\Delta x]$ e usar os pontos ghost para impor que a \"derivada centrada\" seja zero nos extremos:\n",
    "$$ u_d(m_t, -1) = u_d(m_t, 1) = , \\ u_d(m_t,n_x-1) = u_d(m_t,n_x+1) $$"
   ]
  },
  {
   "cell_type": "code",
   "execution_count": 10,
   "metadata": {
    "slideshow": {
     "slide_type": "slide"
    }
   },
   "outputs": [],
   "source": [
    "# parametros da EDP\n",
    "Lx = 4000     # metros\n",
    "Tmax = 3   # seg\n",
    "c = 3000.0    # metros por seg\n",
    "\n",
    "# parametros de discretização\n",
    "nx = 400      # numero de pontos na grade x\n",
    "dx = Lx/nx    # delta x\n",
    "dt = dx/2/c    # delta t\n",
    "nt = int(Tmax / dt) # numero de pontos na grade t\n"
   ]
  },
  {
   "cell_type": "code",
   "execution_count": 11,
   "metadata": {
    "slideshow": {
     "slide_type": "slide"
    }
   },
   "outputs": [
    {
     "data": {
      "image/png": "[encoded data removed]",
      "text/plain": [
       "<Figure size 432x288 with 1 Axes>"
      ]
     },
     "metadata": {
      "needs_background": "light"
     },
     "output_type": "display_data"
    }
   ],
   "source": [
    "# Condiçoes iniciais e inicialização de variaveis com ghost points\n",
    "# parametros de discretização\n",
    "nxg = nx+2     # numero de pontos na grade x\n",
    "u = np.zeros(nxg)\n",
    "uold = np.zeros(nxg) \n",
    "unew = np.zeros(nxg)\n",
    "uxx = np.zeros(nxg)\n",
    "for ix in range(nx):\n",
    "    uold[ix] = funf(ix*dx) # u(t=0,x)=f(x)\n",
    "    u[ix] = funf(ix*dx - c*dt) # u(t=0 +Delta t,x) = f(x+c Delta t) onda viagante a ezquerda\n",
    "plt.plot(u, label='u')\n",
    "plt.plot(uold, label='uold')\n",
    "plt.legend()\n",
    "plt.show()"
   ]
  },
  {
   "cell_type": "code",
   "execution_count": 12,
   "metadata": {
    "slideshow": {
     "slide_type": "slide"
    }
   },
   "outputs": [],
   "source": [
    "# evoluçao com os extremos livres\n",
    "uts = []\n",
    "for it in range(nt):\n",
    "    uxx[1:nxg-1] = u[2:nxg] - 2*u[1:nxg-1] + u[:nxg-2] # é o mesmo do que antes!\n",
    "    uxx /= dx ** 2\n",
    "    unew = 2 * u - uold + dt ** 2 * c ** 2 * uxx\n",
    "    # truque para cond Neumann com ghost pointsÇ\n",
    "    unew[0]=float(unew[2])\n",
    "    unew[nxg-1]=float(unew[nxg-3])\n",
    "    uold, u = u, unew\n",
    "    uts.append(u)"
   ]
  },
  {
   "cell_type": "code",
   "execution_count": 13,
   "metadata": {
    "slideshow": {
     "slide_type": "slide"
    }
   },
   "outputs": [
    {
     "data": {
      "image/png": "[encoded data removed]",
      "text/plain": [
       "<Figure size 432x288 with 1 Axes>"
      ]
     },
     "metadata": {
      "needs_background": "light"
     },
     "output_type": "display_data"
    }
   ],
   "source": [
    "#plotar para todo t\n",
    "isnap = 20   # frequencia de ploteo\n",
    "intervalo = range(nt)\n",
    "plotar_u(isnap,intervalo,uts)"
   ]
  },
  {
   "cell_type": "code",
   "execution_count": 14,
   "metadata": {
    "slideshow": {
     "slide_type": "subslide"
    }
   },
   "outputs": [],
   "source": [
    "# geramos gif\n",
    "isnap = 20    # frequencia de ploteo\n",
    "tempos = [it for it in range(nt) if it % isnap == 0]\n",
    "intervalo_gif = 5*len(tempos) # quanto maior o intervalo_gif, mais tempo vai ficar em cada frame na reproducao\n",
    "#gerar_gif(isnap,tempos,uts,'onda_ref_Neumann_full',intervalo_gif)\n"
   ]
  },
  {
   "cell_type": "markdown",
   "metadata": {
    "slideshow": {
     "slide_type": "slide"
    }
   },
   "source": [
    "![](./figs/onda_ref_Neumann_full.gif)"
   ]
  },
  {
   "cell_type": "markdown",
   "metadata": {
    "slideshow": {
     "slide_type": "slide"
    }
   },
   "source": [
    "### Obs: agora se reflite sem virar para baixo!"
   ]
  },
  {
   "cell_type": "code",
   "execution_count": 15,
   "metadata": {
    "slideshow": {
     "slide_type": "slide"
    }
   },
   "outputs": [
    {
     "data": {
      "image/png": "[encoded data removed]",
      "text/plain": [
       "<Figure size 432x288 with 1 Axes>"
      ]
     },
     "metadata": {
      "needs_background": "light"
     },
     "output_type": "display_data"
    }
   ],
   "source": [
    "# vendo como a onda reflite\n",
    "ot = 0.66 # seg\n",
    "iot = int(ot/dt)\n",
    "jant = 0.15 # seg\n",
    "ijant = int(jant/dt)\n",
    "intervalo = range(iot - ijant,iot + ijant) #indices de tempo\n",
    "isnap = 2\n",
    "plotar_u(isnap,intervalo,uts)"
   ]
  },
  {
   "cell_type": "code",
   "execution_count": 16,
   "metadata": {
    "slideshow": {
     "slide_type": "subslide"
    }
   },
   "outputs": [],
   "source": [
    "isnap = 2    # frequencia de ploteo\n",
    "tempos = [it for it in intervalo if it % isnap == 0]\n",
    "intervalo_gif = 5*len(tempos) # quanto maior o intervalo_gif, mais tempo vai ficar em cada frame na reproducao\n",
    "# gerar_gif(isnap,tempos,uts,'onda_ref_Neum_detalhe',intervalo_gif)\n"
   ]
  },
  {
   "cell_type": "markdown",
   "metadata": {
    "slideshow": {
     "slide_type": "slide"
    }
   },
   "source": [
    "![](./figs/onda_ref_Neum_detalhe.gif)"
   ]
  },
  {
   "cell_type": "markdown",
   "metadata": {
    "slideshow": {
     "slide_type": "slide"
    }
   },
   "source": [
    "# Eq. de difusão com $n=1$"
   ]
  },
  {
   "cell_type": "markdown",
   "metadata": {
    "slideshow": {
     "slide_type": "slide"
    }
   },
   "source": [
    "- incognita $u(t,x), \\ t\\in [0,T_{max}], \\ x\\in [0,L_x] \\subset \\mathbb{R^{n=1}}$\n",
    "- equação\n",
    "$$ \\partial_t u = c \\partial_x^2 u$$ \n",
    "($c$ agora significa outra coisa: $[c] = [dist]^2/[tempo]$)\n",
    "\n",
    "- condições de bordo (Dirichlet)\n",
    "$$u(t=0,x) = f(x),$$ \n",
    "$$ u(t,x=0) = 0 \\ u(t, x=L_x) = 0$$\n",
    "\n",
    "**Obs**: notar que como é de primeira ordem em $t$, só precisamos 1 cond. inicial em $t=0$ (ou $t=T_{max}$)"
   ]
  },
  {
   "cell_type": "markdown",
   "metadata": {
    "slideshow": {
     "slide_type": "slide"
    }
   },
   "source": [
    "### discretização:\n",
    "\n",
    "- $ \\delta_t u = c \\delta_x^2 u$:\n",
    "\n",
    "$$ u_d(m_t+1,m_x) = u_d(m_t,m_x) + c \\frac{\\Delta t}{(\\Delta x)^2} (u_d(m_t,m_x+1) - 2 u_d(m_t,m_x) + u_d(m_t,m_x-1))   $$\n",
    "\n",
    "permite achar a evolução $t \\mapsto t+\\Delta t$ (partindo das cond. inic.)\n",
    "\n",
    "- cond. contorno Dirichlet: $u_d(m_t,0)=0=u_d(m_t,n_x), \\forall m_t$"
   ]
  },
  {
   "cell_type": "code",
   "execution_count": 17,
   "metadata": {
    "slideshow": {
     "slide_type": "slide"
    }
   },
   "outputs": [],
   "source": [
    "#parametros\n",
    "Lx = 4000    \n",
    "Tmax = 100   \n",
    "nx = 400     \n",
    "dx = Lx/nx   \n",
    "c = 5000.0    \n",
    "dt = dx/2/c  \n",
    "nt = int(Tmax / dt) "
   ]
  },
  {
   "cell_type": "code",
   "execution_count": 18,
   "metadata": {
    "slideshow": {
     "slide_type": "slide"
    }
   },
   "outputs": [
    {
     "data": {
      "image/png": "[encoded data removed]",
      "text/plain": [
       "<Figure size 432x288 with 1 Axes>"
      ]
     },
     "metadata": {
      "needs_background": "light"
     },
     "output_type": "display_data"
    }
   ],
   "source": [
    "# condições iniciais\n",
    "u = np.zeros(nx)\n",
    "uold = np.zeros(nx)\n",
    "unew = np.zeros(nx)\n",
    "uxx = np.zeros(nx)\n",
    "# funçao step\n",
    "def funcao(ix):\n",
    "    ret=0\n",
    "    if ix > nx/3 and ix < nx/2:\n",
    "       ret = 0.5\n",
    "    return ret\n",
    "for ix in range(nx):\n",
    "    u[ix] = funcao(ix) # u(0,x)=f(x)\n",
    "plt.plot(u)\n",
    "plt.show()"
   ]
  },
  {
   "cell_type": "code",
   "execution_count": 19,
   "metadata": {
    "slideshow": {
     "slide_type": "slide"
    }
   },
   "outputs": [],
   "source": [
    "# Evolução temporal\n",
    "uts = []\n",
    "for it in range(nt):\n",
    "    uxx[1:nx-1] = u[2:nx] - 2*u[1:nx-1] + u[:nx-2]\n",
    "    uxx /= dx ** 2\n",
    "    unew =  u + dt * c * uxx \n",
    "    uold, u = u, unew\n",
    "    uts.append(u)"
   ]
  },
  {
   "cell_type": "code",
   "execution_count": 20,
   "metadata": {
    "slideshow": {
     "slide_type": "slide"
    }
   },
   "outputs": [
    {
     "data": {
      "image/png": "[encoded data removed]",
      "text/plain": [
       "<Figure size 432x288 with 1 Axes>"
      ]
     },
     "metadata": {
      "needs_background": "light"
     },
     "output_type": "display_data"
    }
   ],
   "source": [
    "# plotando tudo t mapsto ut\n",
    "isnap = 2000    \n",
    "intervalo = range(nt)\n",
    "for it in intervalo:\n",
    "    if it % isnap == 0:    # se isnap é maior, temos menos frames\n",
    "        leg = 't='+ str(int(100*(it*Tmax/nt))/100) +'seg'\n",
    "        plt.ylim(ymin=0,ymax=0.6)\n",
    "        plt.plot(uts[it],label=leg)\n",
    "        plt.legend()\n",
    "        clear_output(wait = True)\n",
    "        plt.pause(0.1)"
   ]
  },
  {
   "cell_type": "code",
   "execution_count": 21,
   "metadata": {
    "slideshow": {
     "slide_type": "subslide"
    }
   },
   "outputs": [
    {
     "data": {
      "image/png": "[encoded data removed]",
      "text/plain": [
       "<Figure size 432x288 with 1 Axes>"
      ]
     },
     "metadata": {
      "needs_background": "light"
     },
     "output_type": "display_data"
    }
   ],
   "source": [
    "#geramos um gif\n",
    "nome_arch = 'difusao'\n",
    "isnap = 2000    # frequencia de ploteo\n",
    "tempos = [it for it in range(nt) if it % isnap == 0]\n",
    "intervalo_gif = 5*len(tempos) # quanto maior o intervalo_gif, mais tempo vai ficar em cada frame na reproducao\n",
    "fig, ax = plt.subplots()\n",
    "ax.plot(uts[0])\n",
    "def update(i):\n",
    "    label = 't='+ str(int(100*(i*Tmax/nt))/100) +'seg'\n",
    "    ax.clear()\n",
    "    ax.plot(uts[i])\n",
    "    ax.set_ylim([0,0.6])\n",
    "    ax.set_xlabel(label)\n",
    "    return ax\n",
    "# anim = FuncAnimation(fig, update, frames=tempos, interval=intervalo_gif)\n",
    "# anim.save('./figs/'+ nome_arch +'.gif', dpi=80, writer='imagemagick')\n",
    "\n"
   ]
  },
  {
   "cell_type": "markdown",
   "metadata": {
    "slideshow": {
     "slide_type": "slide"
    }
   },
   "source": [
    "![](./figs/difusao.gif)"
   ]
  },
  {
   "cell_type": "markdown",
   "metadata": {
    "slideshow": {
     "slide_type": "slide"
    }
   },
   "source": [
    "## Obs: a função inicial \"derrete\" !"
   ]
  },
  {
   "cell_type": "markdown",
   "metadata": {
    "slideshow": {
     "slide_type": "slide"
    }
   },
   "source": [
    "# Exercicios:\n",
    "\n",
    "- simular a eq. de difusão com condições de contorno Neumann em $x$\n",
    "- variar os parametros para entender o comportamento e o papel das constantes\n",
    "- graficar (3d) a função de duas variáveis $(t,x) \\mapsto u(t,x)$ para entender o papel das condições de contorno\n",
    "- (* ) fazer um \"solver\" que receve uma EDP para $u(t,x)$ (que só depende das derivadas até grau 2), os intervalos de definição de $t,x$ e as condicoes de bordo (tipo Dirichlet ou Neumann em $t=0,T_max$ e $x=0,L_x$) e devolve a solução\n",
    "- simular a eq. de onda e a de difusão com duas variáveis espaciais, é disser, $u\\equiv u(t,x,y)$"
   ]
  },
  {
   "cell_type": "code",
   "execution_count": null,
   "metadata": {},
   "outputs": [],
   "source": []
  },
  {
   "cell_type": "markdown",
   "metadata": {},
   "source": [
    "** gerar slides deste notebook desde code..."
   ]
  }
 ],
 "metadata": {
  "celltoolbar": "Slideshow",
  "kernelspec": {
   "display_name": "Python 3",
   "language": "python",
   "name": "python3"
  },
  "language_info": {
   "codemirror_mode": {
    "name": "ipython",
    "version": 3
   },
   "file_extension": ".py",
   "mimetype": "text/x-python",
   "name": "python",
   "nbconvert_exporter": "python",
   "pygments_lexer": "ipython3",
   "version": "3.7.1"
  }
 },
 "nbformat": 4,
 "nbformat_minor": 2
}
